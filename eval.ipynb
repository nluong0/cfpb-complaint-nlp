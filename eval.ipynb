{
 "metadata": {
  "language_info": {
   "codemirror_mode": {
    "name": "ipython",
    "version": 3
   },
   "file_extension": ".py",
   "mimetype": "text/x-python",
   "name": "python",
   "nbconvert_exporter": "python",
   "pygments_lexer": "ipython3",
   "version": "3.9.1-final"
  },
  "orig_nbformat": 2,
  "kernelspec": {
   "name": "python3",
   "display_name": "Python 3.9.1 64-bit",
   "metadata": {
    "interpreter": {
     "hash": "aee8b7b246df8f9039afb4144a1f6fd8d2ca17a180786b69acc140d282b71a49"
    }
   }
  }
 },
 "nbformat": 4,
 "nbformat_minor": 2,
 "cells": [
  {
   "cell_type": "code",
   "execution_count": 3,
   "metadata": {},
   "outputs": [],
   "source": [
    "import pandas as pd\n",
    "import dataframe_image as dfi"
   ]
  },
  {
   "source": [
    "# Load and process the output of the model"
   ],
   "cell_type": "markdown",
   "metadata": {}
  },
  {
   "cell_type": "code",
   "execution_count": 22,
   "metadata": {},
   "outputs": [],
   "source": [
    "raw = pd.read_csv('log_output.csv')"
   ]
  },
  {
   "cell_type": "code",
   "execution_count": 23,
   "metadata": {},
   "outputs": [],
   "source": [
    "raw.rename(columns={'0':'topic_cat','1':'probability'},inplace=True)\n",
    "raw.set_index(raw.id+raw.probability, inplace=True)\n",
    "derived_topic_summary = {0:'Credit Cards/Consumer Banking', 1:'Credit Reporting Communications',\n",
    "                        2:'Credit Reporting / Debt Collection', 3:'Debt Collection Communications',\n",
    "                        4:'Customer Service', 5:'Credit Reporting Identity Theft (5)',\n",
    "                        6:'Communication General (6)', 7:'Credit Reporting Inquiries',\n",
    "                        8:'Unclear, Navy Federal', 9:'Mortgages', 10:'Credit Reporting General',\n",
    "                        11:'Capital One / Credit Reporting', 12:'Student Loans',\n",
    "                        13:'Communication General (13)', 14:'Credit Reporting Identity Theft (14)'\n",
    "                        }\n",
    "raw['derived_topic'] = raw.topic_cat.map(derived_topic_summary)"
   ]
  },
  {
   "source": [
    "# Get Top Topic for Each Complaint"
   ],
   "cell_type": "markdown",
   "metadata": {}
  },
  {
   "cell_type": "code",
   "execution_count": 24,
   "metadata": {},
   "outputs": [],
   "source": [
    "top_prob = raw.pivot(index=\"id\", columns=\"derived_topic\", values=\"probability\").max(axis=1).reset_index().rename(columns={0:'probability'})\n",
    "top_prob['top_cat'] = 1\n",
    "top_prob.set_index(top_prob.id+top_prob.probability, inplace=True)\n"
   ]
  },
  {
   "cell_type": "code",
   "execution_count": 25,
   "metadata": {},
   "outputs": [],
   "source": [
    "counts = top_prob.join(raw, how='left',lsuffix='_y').groupby(['complaint_type','derived_topic'],as_index=True)['top_cat'].agg('sum').reset_index()\n"
   ]
  },
  {
   "source": [
    "### Export formatted tables of results"
   ],
   "cell_type": "markdown",
   "metadata": {}
  },
  {
   "cell_type": "code",
   "execution_count": 62,
   "metadata": {},
   "outputs": [],
   "source": [
    "\n",
    "export_prep = counts.pivot(index=\"derived_topic\", columns=\"complaint_type\", values=\"top_cat\").fillna(0).astype('int32')\n",
    "export = pd.DataFrame()\n",
    "split = 0\n",
    "for i in export_prep.columns:\n",
    "    export[i] = (export_prep[i]/export_prep[i].sum())*100\n",
    "    split+=1\n",
    "    if not split%9:\n",
    "        df_styled0 = export.style.background_gradient()\n",
    "        dfi.export(df_styled0, \"top_topic{}.png\".format(int(18/split)))\n",
    "        export = pd.DataFrame()"
   ]
  },
  {
   "cell_type": "code",
   "execution_count": 28,
   "metadata": {},
   "outputs": [
    {
     "output_type": "execute_result",
     "data": {
      "text/plain": [
       "                                                    top_cat\n",
       "complaint_type                                             \n",
       "Bank account or service                                4500\n",
       "Checking or savings account                            9350\n",
       "Consumer Loan                                          2885\n",
       "Credit card                                            5529\n",
       "Credit card or prepaid card                           15758\n",
       "Credit reporting                                       9901\n",
       "Credit reporting, credit repair services, or ot...    80212\n",
       "Debt collection                                       42680\n",
       "Money transfer, virtual currency, or money service     4287\n",
       "Money transfers                                         452\n",
       "Mortgage                                              22914\n",
       "Other financial service                                  83\n",
       "Payday loan                                             533\n",
       "Payday loan, title loan, or personal loan              2845\n",
       "Prepaid card                                            452\n",
       "Student loan                                           8357\n",
       "Vehicle loan or lease                                  3869\n",
       "Virtual currency                                          3"
      ],
      "text/html": "<div>\n<style scoped>\n    .dataframe tbody tr th:only-of-type {\n        vertical-align: middle;\n    }\n\n    .dataframe tbody tr th {\n        vertical-align: top;\n    }\n\n    .dataframe thead th {\n        text-align: right;\n    }\n</style>\n<table border=\"1\" class=\"dataframe\">\n  <thead>\n    <tr style=\"text-align: right;\">\n      <th></th>\n      <th>top_cat</th>\n    </tr>\n    <tr>\n      <th>complaint_type</th>\n      <th></th>\n    </tr>\n  </thead>\n  <tbody>\n    <tr>\n      <th>Bank account or service</th>\n      <td>4500</td>\n    </tr>\n    <tr>\n      <th>Checking or savings account</th>\n      <td>9350</td>\n    </tr>\n    <tr>\n      <th>Consumer Loan</th>\n      <td>2885</td>\n    </tr>\n    <tr>\n      <th>Credit card</th>\n      <td>5529</td>\n    </tr>\n    <tr>\n      <th>Credit card or prepaid card</th>\n      <td>15758</td>\n    </tr>\n    <tr>\n      <th>Credit reporting</th>\n      <td>9901</td>\n    </tr>\n    <tr>\n      <th>Credit reporting, credit repair services, or other personal consumer reports</th>\n      <td>80212</td>\n    </tr>\n    <tr>\n      <th>Debt collection</th>\n      <td>42680</td>\n    </tr>\n    <tr>\n      <th>Money transfer, virtual currency, or money service</th>\n      <td>4287</td>\n    </tr>\n    <tr>\n      <th>Money transfers</th>\n      <td>452</td>\n    </tr>\n    <tr>\n      <th>Mortgage</th>\n      <td>22914</td>\n    </tr>\n    <tr>\n      <th>Other financial service</th>\n      <td>83</td>\n    </tr>\n    <tr>\n      <th>Payday loan</th>\n      <td>533</td>\n    </tr>\n    <tr>\n      <th>Payday loan, title loan, or personal loan</th>\n      <td>2845</td>\n    </tr>\n    <tr>\n      <th>Prepaid card</th>\n      <td>452</td>\n    </tr>\n    <tr>\n      <th>Student loan</th>\n      <td>8357</td>\n    </tr>\n    <tr>\n      <th>Vehicle loan or lease</th>\n      <td>3869</td>\n    </tr>\n    <tr>\n      <th>Virtual currency</th>\n      <td>3</td>\n    </tr>\n  </tbody>\n</table>\n</div>"
     },
     "metadata": {},
     "execution_count": 28
    }
   ],
   "source": [
    "counts.groupby('complaint_type').sum()"
   ]
  },
  {
   "cell_type": "code",
   "execution_count": 27,
   "metadata": {},
   "outputs": [
    {
     "output_type": "execute_result",
     "data": {
      "text/plain": [
       "                                      top_cat\n",
       "derived_topic                                \n",
       "Capital One / Credit Reporting           1609\n",
       "Communication General (13)              32098\n",
       "Communication General (6)               12193\n",
       "Credit Cards/Consumer Banking           22009\n",
       "Credit Reporting / Debt Collection       5801\n",
       "Credit Reporting Communications          9344\n",
       "Credit Reporting General                 6670\n",
       "Credit Reporting Identity Theft (14)    10355\n",
       "Credit Reporting Identity Theft (5)      1396\n",
       "Credit Reporting Inquiries               3005\n",
       "Customer Service                        71567\n",
       "Debt Collection Communications           8806\n",
       "Mortgages                                5559\n",
       "Student Loans                           21338\n",
       "Unclear, Navy Federal                    2860"
      ],
      "text/html": "<div>\n<style scoped>\n    .dataframe tbody tr th:only-of-type {\n        vertical-align: middle;\n    }\n\n    .dataframe tbody tr th {\n        vertical-align: top;\n    }\n\n    .dataframe thead th {\n        text-align: right;\n    }\n</style>\n<table border=\"1\" class=\"dataframe\">\n  <thead>\n    <tr style=\"text-align: right;\">\n      <th></th>\n      <th>top_cat</th>\n    </tr>\n    <tr>\n      <th>derived_topic</th>\n      <th></th>\n    </tr>\n  </thead>\n  <tbody>\n    <tr>\n      <th>Capital One / Credit Reporting</th>\n      <td>1609</td>\n    </tr>\n    <tr>\n      <th>Communication General (13)</th>\n      <td>32098</td>\n    </tr>\n    <tr>\n      <th>Communication General (6)</th>\n      <td>12193</td>\n    </tr>\n    <tr>\n      <th>Credit Cards/Consumer Banking</th>\n      <td>22009</td>\n    </tr>\n    <tr>\n      <th>Credit Reporting / Debt Collection</th>\n      <td>5801</td>\n    </tr>\n    <tr>\n      <th>Credit Reporting Communications</th>\n      <td>9344</td>\n    </tr>\n    <tr>\n      <th>Credit Reporting General</th>\n      <td>6670</td>\n    </tr>\n    <tr>\n      <th>Credit Reporting Identity Theft (14)</th>\n      <td>10355</td>\n    </tr>\n    <tr>\n      <th>Credit Reporting Identity Theft (5)</th>\n      <td>1396</td>\n    </tr>\n    <tr>\n      <th>Credit Reporting Inquiries</th>\n      <td>3005</td>\n    </tr>\n    <tr>\n      <th>Customer Service</th>\n      <td>71567</td>\n    </tr>\n    <tr>\n      <th>Debt Collection Communications</th>\n      <td>8806</td>\n    </tr>\n    <tr>\n      <th>Mortgages</th>\n      <td>5559</td>\n    </tr>\n    <tr>\n      <th>Student Loans</th>\n      <td>21338</td>\n    </tr>\n    <tr>\n      <th>Unclear, Navy Federal</th>\n      <td>2860</td>\n    </tr>\n  </tbody>\n</table>\n</div>"
     },
     "metadata": {},
     "execution_count": 27
    }
   ],
   "source": [
    "counts.groupby('derived_topic').sum()"
   ]
  },
  {
   "source": [
    "# Get Permutations of Topic and Complaint"
   ],
   "cell_type": "markdown",
   "metadata": {}
  },
  {
   "cell_type": "code",
   "execution_count": 30,
   "metadata": {},
   "outputs": [],
   "source": [
    "topics=list(raw.topic_cat.unique())\n",
    "ids =list(raw.id.unique())\n",
    "full_comb_df = pd.DataFrame([(t,i) for t in topics for i in ids])\n",
    "full_comb_df.rename(columns={0:'topic_cat',1:'id'},inplace=True)"
   ]
  },
  {
   "cell_type": "code",
   "execution_count": 31,
   "metadata": {},
   "outputs": [],
   "source": [
    "cat_str = raw.topic_cat.astype('str')\n",
    "id_str = raw.id.astype('str')\n",
    "fc_cat_str = full_comb_df.topic_cat.astype('str')\n",
    "fc_id_str = full_comb_df.id.astype('str')"
   ]
  },
  {
   "cell_type": "code",
   "execution_count": 32,
   "metadata": {},
   "outputs": [],
   "source": [
    "full_comb_df.set_index(fc_cat_str + '-' + fc_id_str,inplace=True)\n",
    "raw.set_index(cat_str + '-' + id_str,inplace=True)"
   ]
  },
  {
   "cell_type": "code",
   "execution_count": 38,
   "metadata": {},
   "outputs": [],
   "source": [
    "df = full_comb_df.join(raw.probability,how='left').fillna(0)\n",
    "df.sort_values([\"id\", \"probability\",'topic_cat'], ascending = (True,True,True),inplace=True)\n",
    "df['ranks']=[i for i in range(0,15)]*int(df.shape[0]/len(df.topic_cat.unique()))\n",
    "df = df.join(raw[['id','complaint_type']].drop_duplicates().set_index('id'),how='left',on='id')"
   ]
  },
  {
   "source": [
    "# Derive Top 3 Ranked Topic Probabilities per Complaint"
   ],
   "cell_type": "markdown",
   "metadata": {}
  },
  {
   "cell_type": "code",
   "execution_count": 39,
   "metadata": {},
   "outputs": [],
   "source": [
    "top_categories_df = df[(df.ranks<3) & (df.probability>0)].groupby(['complaint_type','topic_cat'])['ranks'].agg('count').reset_index()\n",
    "top_categories_df['derived_topic'] = top_categories_df.topic_cat.map(derived_topic_summary)"
   ]
  },
  {
   "source": [
    "### Export formatted tables of results"
   ],
   "cell_type": "markdown",
   "metadata": {}
  },
  {
   "cell_type": "code",
   "execution_count": 77,
   "metadata": {},
   "outputs": [],
   "source": [
    "export_prep2 = top_categories_df.pivot(index=\"derived_topic\", columns=\"complaint_type\", values=\"ranks\").fillna(0).astype('int32')\n",
    "export2 = pd.DataFrame()\n",
    "\n",
    "for i in [j for j in export_prep2.columns][0:9]:\n",
    "    export2[i] = (export_prep2[i]/export_prep2[i].sum())*100\n",
    "    if \n",
    "\n",
    "df_styled = export2.style.background_gradient()\n",
    "dfi.export(df_styled, \"topic_in_top31.png\")\n",
    "\n",
    "export2 = pd.DataFrame()\n",
    "for i in [j for j in export_prep2.columns][10:]:\n",
    "    export2[i] = (export_prep2[i]/export_prep2[i].sum())*100\n",
    "\n",
    "df_styled = export2.style.background_gradient()\n",
    "dfi.export(df_styled, \"topic_in_top32.png\")"
   ]
  },
  {
   "cell_type": "code",
   "execution_count": null,
   "metadata": {},
   "outputs": [],
   "source": []
  }
 ]
}