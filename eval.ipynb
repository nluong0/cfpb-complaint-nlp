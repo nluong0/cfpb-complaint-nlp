{
 "metadata": {
  "language_info": {
   "codemirror_mode": {
    "name": "ipython",
    "version": 3
   },
   "file_extension": ".py",
   "mimetype": "text/x-python",
   "name": "python",
   "nbconvert_exporter": "python",
   "pygments_lexer": "ipython3",
   "version": "3.9.1"
  },
  "orig_nbformat": 2,
  "kernelspec": {
   "name": "python3",
   "display_name": "Python 3.9.1 64-bit",
   "metadata": {
    "interpreter": {
     "hash": "aee8b7b246df8f9039afb4144a1f6fd8d2ca17a180786b69acc140d282b71a49"
    }
   }
  }
 },
 "nbformat": 4,
 "nbformat_minor": 2,
 "cells": [
  {
   "cell_type": "code",
   "execution_count": 1,
   "metadata": {},
   "outputs": [],
   "source": [
    "import pandas as pd"
   ]
  },
  {
   "cell_type": "code",
   "execution_count": 2,
   "metadata": {},
   "outputs": [],
   "source": [
    "x = pd.read_csv('advml_proj.csv')"
   ]
  },
  {
   "cell_type": "code",
   "execution_count": 3,
   "metadata": {},
   "outputs": [],
   "source": [
    "x.rename(columns={'0':'topic_cat','1':'probability'},inplace=True)"
   ]
  },
  {
   "cell_type": "code",
   "execution_count": 7,
   "metadata": {},
   "outputs": [
    {
     "output_type": "execute_result",
     "data": {
      "text/plain": [
       "              Unnamed: 0  topic_cat  probability       id  \\\n",
       "3.343537e+06           0          0     0.072703  3343537   \n",
       "3.343537e+06           1          2     0.039928  3343537   \n",
       "3.343537e+06           2          3     0.086291  3343537   \n",
       "3.343537e+06           3          4     0.134954  3343537   \n",
       "3.343537e+06           4          5     0.018079  3343537   \n",
       "\n",
       "                           complaint_type  \\\n",
       "3.343537e+06  Checking or savings account   \n",
       "3.343537e+06  Checking or savings account   \n",
       "3.343537e+06  Checking or savings account   \n",
       "3.343537e+06  Checking or savings account   \n",
       "3.343537e+06  Checking or savings account   \n",
       "\n",
       "                                                  derived_topic  \n",
       "3.343537e+06  credit card, bank america, checking account, a...  \n",
       "3.343537e+06  * ~, section *, credit reporting, * usc, colle...  \n",
       "3.343537e+06  collection agency, never received, debt ~, col...  \n",
       "3.343537e+06  customer service, ~ called, called ~, ~ told, ...  \n",
       "3.343537e+06  reporting agency, consumer reporting, identity...  "
      ],
      "text/html": "<div>\n<style scoped>\n    .dataframe tbody tr th:only-of-type {\n        vertical-align: middle;\n    }\n\n    .dataframe tbody tr th {\n        vertical-align: top;\n    }\n\n    .dataframe thead th {\n        text-align: right;\n    }\n</style>\n<table border=\"1\" class=\"dataframe\">\n  <thead>\n    <tr style=\"text-align: right;\">\n      <th></th>\n      <th>Unnamed: 0</th>\n      <th>topic_cat</th>\n      <th>probability</th>\n      <th>id</th>\n      <th>complaint_type</th>\n      <th>derived_topic</th>\n    </tr>\n  </thead>\n  <tbody>\n    <tr>\n      <th>3.343537e+06</th>\n      <td>0</td>\n      <td>0</td>\n      <td>0.072703</td>\n      <td>3343537</td>\n      <td>Checking or savings account</td>\n      <td>credit card, bank america, checking account, a...</td>\n    </tr>\n    <tr>\n      <th>3.343537e+06</th>\n      <td>1</td>\n      <td>2</td>\n      <td>0.039928</td>\n      <td>3343537</td>\n      <td>Checking or savings account</td>\n      <td>* ~, section *, credit reporting, * usc, colle...</td>\n    </tr>\n    <tr>\n      <th>3.343537e+06</th>\n      <td>2</td>\n      <td>3</td>\n      <td>0.086291</td>\n      <td>3343537</td>\n      <td>Checking or savings account</td>\n      <td>collection agency, never received, debt ~, col...</td>\n    </tr>\n    <tr>\n      <th>3.343537e+06</th>\n      <td>3</td>\n      <td>4</td>\n      <td>0.134954</td>\n      <td>3343537</td>\n      <td>Checking or savings account</td>\n      <td>customer service, ~ called, called ~, ~ told, ...</td>\n    </tr>\n    <tr>\n      <th>3.343537e+06</th>\n      <td>4</td>\n      <td>5</td>\n      <td>0.018079</td>\n      <td>3343537</td>\n      <td>Checking or savings account</td>\n      <td>reporting agency, consumer reporting, identity...</td>\n    </tr>\n  </tbody>\n</table>\n</div>"
     },
     "metadata": {},
     "execution_count": 7
    }
   ],
   "source": [
    "x.set_index(x.id+x.probability, inplace=True)\n",
    "x.head()"
   ]
  },
  {
   "cell_type": "code",
   "execution_count": 9,
   "metadata": {},
   "outputs": [
    {
     "output_type": "execute_result",
     "data": {
      "text/plain": [
       "                   id  probability  top_cat\n",
       "1.290198e+06  1290198     0.148697        1\n",
       "1.290200e+06  1290200     0.199466        1\n",
       "1.290304e+06  1290304     0.164490        1\n",
       "1.290308e+06  1290308     0.166727        1\n",
       "1.290316e+06  1290316     0.230529        1"
      ],
      "text/html": "<div>\n<style scoped>\n    .dataframe tbody tr th:only-of-type {\n        vertical-align: middle;\n    }\n\n    .dataframe tbody tr th {\n        vertical-align: top;\n    }\n\n    .dataframe thead th {\n        text-align: right;\n    }\n</style>\n<table border=\"1\" class=\"dataframe\">\n  <thead>\n    <tr style=\"text-align: right;\">\n      <th></th>\n      <th>id</th>\n      <th>probability</th>\n      <th>top_cat</th>\n    </tr>\n  </thead>\n  <tbody>\n    <tr>\n      <th>1.290198e+06</th>\n      <td>1290198</td>\n      <td>0.148697</td>\n      <td>1</td>\n    </tr>\n    <tr>\n      <th>1.290200e+06</th>\n      <td>1290200</td>\n      <td>0.199466</td>\n      <td>1</td>\n    </tr>\n    <tr>\n      <th>1.290304e+06</th>\n      <td>1290304</td>\n      <td>0.164490</td>\n      <td>1</td>\n    </tr>\n    <tr>\n      <th>1.290308e+06</th>\n      <td>1290308</td>\n      <td>0.166727</td>\n      <td>1</td>\n    </tr>\n    <tr>\n      <th>1.290316e+06</th>\n      <td>1290316</td>\n      <td>0.230529</td>\n      <td>1</td>\n    </tr>\n  </tbody>\n</table>\n</div>"
     },
     "metadata": {},
     "execution_count": 9
    }
   ],
   "source": [
    "y = x.pivot(index=\"id\", columns=\"topic_cat\", values=\"probability\").max(axis=1).reset_index().rename(columns={0:'probability'})\n",
    "y['top_cat'] = 1\n",
    "y.set_index(y.id+y.probability, inplace=True)\n",
    "y.head()"
   ]
  },
  {
   "cell_type": "code",
   "execution_count": 13,
   "metadata": {},
   "outputs": [],
   "source": [
    "z = y.join(x, how='left',lsuffix='_y')\n",
    "\n",
    "#pd.merge(y,x,how=\"left\",on=['id','probability'])"
   ]
  },
  {
   "cell_type": "code",
   "execution_count": 19,
   "metadata": {},
   "outputs": [],
   "source": [
    "z.groupby(['complaint_type','topic_cat'],as_index=True)['top_cat'].agg('sum').reset_index().to_csv('topics_complaints_eval.csv')\n"
   ]
  },
  {
   "cell_type": "code",
   "execution_count": null,
   "metadata": {},
   "outputs": [],
   "source": []
  }
 ]
}