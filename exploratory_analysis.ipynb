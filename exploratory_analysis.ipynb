{
 "metadata": {
  "language_info": {
   "codemirror_mode": {
    "name": "ipython",
    "version": 3
   },
   "file_extension": ".py",
   "mimetype": "text/x-python",
   "name": "python",
   "nbconvert_exporter": "python",
   "pygments_lexer": "ipython3",
   "version": "3.7.6"
  },
  "orig_nbformat": 2,
  "kernelspec": {
   "name": "python376jvsc74a57bd0906ea4c722bcdad063f321cfd315383e07c40549ac1efdd925b82f8ff2750d92",
   "display_name": "Python 3.7.6 64-bit ('base': conda)"
  },
  "metadata": {
   "interpreter": {
    "hash": "aee8b7b246df8f9039afb4144a1f6fd8d2ca17a180786b69acc140d282b71a49"
   }
  }
 },
 "nbformat": 4,
 "nbformat_minor": 2,
 "cells": [
  {
   "cell_type": "code",
   "execution_count": 38,
   "metadata": {},
   "outputs": [],
   "source": [
    "import json\n",
    "import pandas as pd\n",
    "import dataframe_image as dfi"
   ]
  },
  {
   "source": [
    "### Examining Product Distribution"
   ],
   "cell_type": "markdown",
   "metadata": {}
  },
  {
   "cell_type": "code",
   "execution_count": 5,
   "metadata": {},
   "outputs": [
    {
     "output_type": "execute_result",
     "data": {
      "text/plain": [
       "   tags zip_code complaint_id                                 issue  \\\n",
       "0  None    968XX      3452669  Incorrect information on your report   \n",
       "1  None     None      3183010     Attempts to collect debt not owed   \n",
       "2  None    06320      3197548                   Managing an account   \n",
       "3  None     None      3135671  Incorrect information on your report   \n",
       "4  None    191XX      3298765      Confusing or missing disclosures   \n",
       "\n",
       "               date_received state consumer_disputed  \\\n",
       "0  2019-11-27T12:00:00-05:00    HI               N/A   \n",
       "1  2019-03-18T12:00:00-05:00    WA               N/A   \n",
       "2  2019-04-01T12:00:00-05:00    CT               N/A   \n",
       "3  2019-01-29T12:00:00-05:00    FL               N/A   \n",
       "4  2019-07-08T12:00:00-05:00    PA               N/A   \n",
       "\n",
       "                                             product  \\\n",
       "0  Credit reporting, credit repair services, or o...   \n",
       "1                                    Debt collection   \n",
       "2                        Checking or savings account   \n",
       "3  Credit reporting, credit repair services, or o...   \n",
       "4  Money transfer, virtual currency, or money ser...   \n",
       "\n",
       "              company_response                                  company  \\\n",
       "0      Closed with explanation                            EQUIFAX, INC.   \n",
       "1      Closed with explanation  EVERGREEN PROFESSIONAL RECOVERIES, INC.   \n",
       "2  Closed with monetary relief                    WELLS FARGO & COMPANY   \n",
       "3      Closed with explanation             United PanAm Financial Corp.   \n",
       "4      Closed with explanation        PORTFOLIO RECOVERY ASSOCIATES INC   \n",
       "\n",
       "  submitted_via       date_sent_to_company  \\\n",
       "0           Web  2019-11-27T12:00:00-05:00   \n",
       "1           Web  2019-03-22T12:00:00-05:00   \n",
       "2           Web  2019-04-01T12:00:00-05:00   \n",
       "3           Web  2019-01-29T12:00:00-05:00   \n",
       "4           Web  2019-07-08T12:00:00-05:00   \n",
       "\n",
       "                             company_public_response       sub_product timely  \\\n",
       "0                                               None  Credit reporting    Yes   \n",
       "1  Company has responded to the consumer and the ...     I do not know    Yes   \n",
       "2  Company has responded to the consumer and the ...  Checking account    Yes   \n",
       "3                                               None  Credit reporting    Yes   \n",
       "4                                               None   Debt settlement    Yes   \n",
       "\n",
       "                             complaint_what_happened  \\\n",
       "0  To : Whom It May concern : I am writing to dis...   \n",
       "1  I'm not even sure what debt they are talking a...   \n",
       "2  Wells Fargo has sent me several general form l...   \n",
       "3  Company has wrote the loan amount off as a los...   \n",
       "4  I was recently sued by Portfolio Recovery Asso...   \n",
       "\n",
       "                             sub_issue consumer_consent_provided  \n",
       "0  Information belongs to someone else          Consent provided  \n",
       "1                        Debt was paid          Consent provided  \n",
       "2                       Banking errors          Consent provided  \n",
       "3             Account status incorrect          Consent provided  \n",
       "4                                 None          Consent provided  "
      ],
      "text/html": "<div>\n<style scoped>\n    .dataframe tbody tr th:only-of-type {\n        vertical-align: middle;\n    }\n\n    .dataframe tbody tr th {\n        vertical-align: top;\n    }\n\n    .dataframe thead th {\n        text-align: right;\n    }\n</style>\n<table border=\"1\" class=\"dataframe\">\n  <thead>\n    <tr style=\"text-align: right;\">\n      <th></th>\n      <th>tags</th>\n      <th>zip_code</th>\n      <th>complaint_id</th>\n      <th>issue</th>\n      <th>date_received</th>\n      <th>state</th>\n      <th>consumer_disputed</th>\n      <th>product</th>\n      <th>company_response</th>\n      <th>company</th>\n      <th>submitted_via</th>\n      <th>date_sent_to_company</th>\n      <th>company_public_response</th>\n      <th>sub_product</th>\n      <th>timely</th>\n      <th>complaint_what_happened</th>\n      <th>sub_issue</th>\n      <th>consumer_consent_provided</th>\n    </tr>\n  </thead>\n  <tbody>\n    <tr>\n      <th>0</th>\n      <td>None</td>\n      <td>968XX</td>\n      <td>3452669</td>\n      <td>Incorrect information on your report</td>\n      <td>2019-11-27T12:00:00-05:00</td>\n      <td>HI</td>\n      <td>N/A</td>\n      <td>Credit reporting, credit repair services, or o...</td>\n      <td>Closed with explanation</td>\n      <td>EQUIFAX, INC.</td>\n      <td>Web</td>\n      <td>2019-11-27T12:00:00-05:00</td>\n      <td>None</td>\n      <td>Credit reporting</td>\n      <td>Yes</td>\n      <td>To : Whom It May concern : I am writing to dis...</td>\n      <td>Information belongs to someone else</td>\n      <td>Consent provided</td>\n    </tr>\n    <tr>\n      <th>1</th>\n      <td>None</td>\n      <td>None</td>\n      <td>3183010</td>\n      <td>Attempts to collect debt not owed</td>\n      <td>2019-03-18T12:00:00-05:00</td>\n      <td>WA</td>\n      <td>N/A</td>\n      <td>Debt collection</td>\n      <td>Closed with explanation</td>\n      <td>EVERGREEN PROFESSIONAL RECOVERIES, INC.</td>\n      <td>Web</td>\n      <td>2019-03-22T12:00:00-05:00</td>\n      <td>Company has responded to the consumer and the ...</td>\n      <td>I do not know</td>\n      <td>Yes</td>\n      <td>I'm not even sure what debt they are talking a...</td>\n      <td>Debt was paid</td>\n      <td>Consent provided</td>\n    </tr>\n    <tr>\n      <th>2</th>\n      <td>None</td>\n      <td>06320</td>\n      <td>3197548</td>\n      <td>Managing an account</td>\n      <td>2019-04-01T12:00:00-05:00</td>\n      <td>CT</td>\n      <td>N/A</td>\n      <td>Checking or savings account</td>\n      <td>Closed with monetary relief</td>\n      <td>WELLS FARGO &amp; COMPANY</td>\n      <td>Web</td>\n      <td>2019-04-01T12:00:00-05:00</td>\n      <td>Company has responded to the consumer and the ...</td>\n      <td>Checking account</td>\n      <td>Yes</td>\n      <td>Wells Fargo has sent me several general form l...</td>\n      <td>Banking errors</td>\n      <td>Consent provided</td>\n    </tr>\n    <tr>\n      <th>3</th>\n      <td>None</td>\n      <td>None</td>\n      <td>3135671</td>\n      <td>Incorrect information on your report</td>\n      <td>2019-01-29T12:00:00-05:00</td>\n      <td>FL</td>\n      <td>N/A</td>\n      <td>Credit reporting, credit repair services, or o...</td>\n      <td>Closed with explanation</td>\n      <td>United PanAm Financial Corp.</td>\n      <td>Web</td>\n      <td>2019-01-29T12:00:00-05:00</td>\n      <td>None</td>\n      <td>Credit reporting</td>\n      <td>Yes</td>\n      <td>Company has wrote the loan amount off as a los...</td>\n      <td>Account status incorrect</td>\n      <td>Consent provided</td>\n    </tr>\n    <tr>\n      <th>4</th>\n      <td>None</td>\n      <td>191XX</td>\n      <td>3298765</td>\n      <td>Confusing or missing disclosures</td>\n      <td>2019-07-08T12:00:00-05:00</td>\n      <td>PA</td>\n      <td>N/A</td>\n      <td>Money transfer, virtual currency, or money ser...</td>\n      <td>Closed with explanation</td>\n      <td>PORTFOLIO RECOVERY ASSOCIATES INC</td>\n      <td>Web</td>\n      <td>2019-07-08T12:00:00-05:00</td>\n      <td>None</td>\n      <td>Debt settlement</td>\n      <td>Yes</td>\n      <td>I was recently sued by Portfolio Recovery Asso...</td>\n      <td>None</td>\n      <td>Consent provided</td>\n    </tr>\n  </tbody>\n</table>\n</div>"
     },
     "metadata": {},
     "execution_count": 5
    }
   ],
   "source": [
    "# Load full data and create dataframe\n",
    "data = None\n",
    "with open('data/complaints.json') as file: \n",
    "    data = json.load(file) \n",
    "\n",
    "data_list = [data[i]['_source'] for i in range(len(data))]  \n",
    "df = pd.DataFrame(data_list) \n",
    "df.head()"
   ]
  },
  {
   "cell_type": "code",
   "execution_count": 59,
   "metadata": {},
   "outputs": [
    {
     "output_type": "execute_result",
     "data": {
      "text/plain": [
       "                                              Product   Count  \\\n",
       "6   Credit reporting, credit repair services, or o...  260647   \n",
       "7                                     Debt collection  139241   \n",
       "10                                           Mortgage   77297   \n",
       "4                         Credit card or prepaid card   52677   \n",
       "5                                    Credit reporting   31588   \n",
       "1                         Checking or savings account   31025   \n",
       "15                                       Student loan   28066   \n",
       "3                                         Credit card   18838   \n",
       "0                             Bank account or service   14885   \n",
       "8   Money transfer, virtual currency, or money ser...   13877   \n",
       "16                              Vehicle loan or lease   12883   \n",
       "2                                       Consumer Loan    9472   \n",
       "13          Payday loan, title loan, or personal loan    9214   \n",
       "12                                        Payday loan    1746   \n",
       "9                                     Money transfers    1497   \n",
       "14                                       Prepaid card    1450   \n",
       "11                            Other financial service     292   \n",
       "17                                   Virtual currency      16   \n",
       "\n",
       "    Percentage of Total  \n",
       "6             36.986367  \n",
       "7             19.758596  \n",
       "10            10.968610  \n",
       "4              7.474979  \n",
       "5              4.482405  \n",
       "1              4.402514  \n",
       "15             3.982626  \n",
       "3              2.673153  \n",
       "0              2.112213  \n",
       "8              1.969176  \n",
       "16             1.828125  \n",
       "2              1.344097  \n",
       "13             1.307486  \n",
       "12             0.247761  \n",
       "9              0.212428  \n",
       "14             0.205758  \n",
       "11             0.041435  \n",
       "17             0.002270  "
      ],
      "text/html": "<div>\n<style scoped>\n    .dataframe tbody tr th:only-of-type {\n        vertical-align: middle;\n    }\n\n    .dataframe tbody tr th {\n        vertical-align: top;\n    }\n\n    .dataframe thead th {\n        text-align: right;\n    }\n</style>\n<table border=\"1\" class=\"dataframe\">\n  <thead>\n    <tr style=\"text-align: right;\">\n      <th></th>\n      <th>Product</th>\n      <th>Count</th>\n      <th>Percentage of Total</th>\n    </tr>\n  </thead>\n  <tbody>\n    <tr>\n      <th>6</th>\n      <td>Credit reporting, credit repair services, or o...</td>\n      <td>260647</td>\n      <td>36.986367</td>\n    </tr>\n    <tr>\n      <th>7</th>\n      <td>Debt collection</td>\n      <td>139241</td>\n      <td>19.758596</td>\n    </tr>\n    <tr>\n      <th>10</th>\n      <td>Mortgage</td>\n      <td>77297</td>\n      <td>10.968610</td>\n    </tr>\n    <tr>\n      <th>4</th>\n      <td>Credit card or prepaid card</td>\n      <td>52677</td>\n      <td>7.474979</td>\n    </tr>\n    <tr>\n      <th>5</th>\n      <td>Credit reporting</td>\n      <td>31588</td>\n      <td>4.482405</td>\n    </tr>\n    <tr>\n      <th>1</th>\n      <td>Checking or savings account</td>\n      <td>31025</td>\n      <td>4.402514</td>\n    </tr>\n    <tr>\n      <th>15</th>\n      <td>Student loan</td>\n      <td>28066</td>\n      <td>3.982626</td>\n    </tr>\n    <tr>\n      <th>3</th>\n      <td>Credit card</td>\n      <td>18838</td>\n      <td>2.673153</td>\n    </tr>\n    <tr>\n      <th>0</th>\n      <td>Bank account or service</td>\n      <td>14885</td>\n      <td>2.112213</td>\n    </tr>\n    <tr>\n      <th>8</th>\n      <td>Money transfer, virtual currency, or money ser...</td>\n      <td>13877</td>\n      <td>1.969176</td>\n    </tr>\n    <tr>\n      <th>16</th>\n      <td>Vehicle loan or lease</td>\n      <td>12883</td>\n      <td>1.828125</td>\n    </tr>\n    <tr>\n      <th>2</th>\n      <td>Consumer Loan</td>\n      <td>9472</td>\n      <td>1.344097</td>\n    </tr>\n    <tr>\n      <th>13</th>\n      <td>Payday loan, title loan, or personal loan</td>\n      <td>9214</td>\n      <td>1.307486</td>\n    </tr>\n    <tr>\n      <th>12</th>\n      <td>Payday loan</td>\n      <td>1746</td>\n      <td>0.247761</td>\n    </tr>\n    <tr>\n      <th>9</th>\n      <td>Money transfers</td>\n      <td>1497</td>\n      <td>0.212428</td>\n    </tr>\n    <tr>\n      <th>14</th>\n      <td>Prepaid card</td>\n      <td>1450</td>\n      <td>0.205758</td>\n    </tr>\n    <tr>\n      <th>11</th>\n      <td>Other financial service</td>\n      <td>292</td>\n      <td>0.041435</td>\n    </tr>\n    <tr>\n      <th>17</th>\n      <td>Virtual currency</td>\n      <td>16</td>\n      <td>0.002270</td>\n    </tr>\n  </tbody>\n</table>\n</div>"
     },
     "metadata": {},
     "execution_count": 59
    }
   ],
   "source": [
    "# Calculate counts and shares of total by product\n",
    "products = df.groupby('product').count()['complaint_what_happened'].to_frame().reset_index()\n",
    "products = products.rename(columns={'complaint_what_happened': 'Count', 'product': 'Product'})\n",
    "products['Percentage of Total'] = ((products['Count'] / sum(products['Count'])) * 100)\n",
    "products = products.sort_values(by=['Percentage of Total'], ascending=False)\n",
    "products"
   ]
  },
  {
   "cell_type": "code",
   "execution_count": 60,
   "metadata": {},
   "outputs": [
    {
     "output_type": "execute_result",
     "data": {
      "text/plain": [
       "<pandas.io.formats.style.Styler at 0x7fb6c15573d0>"
      ],
      "text/html": "<style  type=\"text/css\" >\n#T_6c98617e_bf41_11eb_bdf2_367dda7836ccrow0_col1,#T_6c98617e_bf41_11eb_bdf2_367dda7836ccrow0_col2{\n            background-color:  #023858;\n            color:  #f1f1f1;\n        }#T_6c98617e_bf41_11eb_bdf2_367dda7836ccrow1_col1,#T_6c98617e_bf41_11eb_bdf2_367dda7836ccrow1_col2{\n            background-color:  #63a2cb;\n            color:  #000000;\n        }#T_6c98617e_bf41_11eb_bdf2_367dda7836ccrow2_col1,#T_6c98617e_bf41_11eb_bdf2_367dda7836ccrow2_col2{\n            background-color:  #c1cae2;\n            color:  #000000;\n        }#T_6c98617e_bf41_11eb_bdf2_367dda7836ccrow3_col1,#T_6c98617e_bf41_11eb_bdf2_367dda7836ccrow3_col2{\n            background-color:  #dbdaeb;\n            color:  #000000;\n        }#T_6c98617e_bf41_11eb_bdf2_367dda7836ccrow4_col1,#T_6c98617e_bf41_11eb_bdf2_367dda7836ccrow4_col2{\n            background-color:  #ede7f2;\n            color:  #000000;\n        }#T_6c98617e_bf41_11eb_bdf2_367dda7836ccrow5_col1,#T_6c98617e_bf41_11eb_bdf2_367dda7836ccrow5_col2{\n            background-color:  #ede8f3;\n            color:  #000000;\n        }#T_6c98617e_bf41_11eb_bdf2_367dda7836ccrow6_col1,#T_6c98617e_bf41_11eb_bdf2_367dda7836ccrow6_col2{\n            background-color:  #efe9f3;\n            color:  #000000;\n        }#T_6c98617e_bf41_11eb_bdf2_367dda7836ccrow7_col1,#T_6c98617e_bf41_11eb_bdf2_367dda7836ccrow7_col2{\n            background-color:  #f4eef6;\n            color:  #000000;\n        }#T_6c98617e_bf41_11eb_bdf2_367dda7836ccrow8_col1,#T_6c98617e_bf41_11eb_bdf2_367dda7836ccrow8_col2,#T_6c98617e_bf41_11eb_bdf2_367dda7836ccrow9_col1,#T_6c98617e_bf41_11eb_bdf2_367dda7836ccrow9_col2{\n            background-color:  #f7f0f7;\n            color:  #000000;\n        }#T_6c98617e_bf41_11eb_bdf2_367dda7836ccrow10_col1,#T_6c98617e_bf41_11eb_bdf2_367dda7836ccrow10_col2{\n            background-color:  #f8f1f8;\n            color:  #000000;\n        }#T_6c98617e_bf41_11eb_bdf2_367dda7836ccrow11_col1,#T_6c98617e_bf41_11eb_bdf2_367dda7836ccrow11_col2,#T_6c98617e_bf41_11eb_bdf2_367dda7836ccrow12_col1,#T_6c98617e_bf41_11eb_bdf2_367dda7836ccrow12_col2{\n            background-color:  #faf2f8;\n            color:  #000000;\n        }#T_6c98617e_bf41_11eb_bdf2_367dda7836ccrow13_col1,#T_6c98617e_bf41_11eb_bdf2_367dda7836ccrow13_col2,#T_6c98617e_bf41_11eb_bdf2_367dda7836ccrow14_col1,#T_6c98617e_bf41_11eb_bdf2_367dda7836ccrow14_col2,#T_6c98617e_bf41_11eb_bdf2_367dda7836ccrow15_col1,#T_6c98617e_bf41_11eb_bdf2_367dda7836ccrow15_col2{\n            background-color:  #fef6fb;\n            color:  #000000;\n        }#T_6c98617e_bf41_11eb_bdf2_367dda7836ccrow16_col1,#T_6c98617e_bf41_11eb_bdf2_367dda7836ccrow16_col2,#T_6c98617e_bf41_11eb_bdf2_367dda7836ccrow17_col1,#T_6c98617e_bf41_11eb_bdf2_367dda7836ccrow17_col2{\n            background-color:  #fff7fb;\n            color:  #000000;\n        }</style><table id=\"T_6c98617e_bf41_11eb_bdf2_367dda7836cc\" ><thead>    <tr>        <th class=\"blank level0\" ></th>        <th class=\"col_heading level0 col0\" >Product</th>        <th class=\"col_heading level0 col1\" >Count</th>        <th class=\"col_heading level0 col2\" >Percentage of Total</th>    </tr></thead><tbody>\n                <tr>\n                        <th id=\"T_6c98617e_bf41_11eb_bdf2_367dda7836cclevel0_row0\" class=\"row_heading level0 row0\" >6</th>\n                        <td id=\"T_6c98617e_bf41_11eb_bdf2_367dda7836ccrow0_col0\" class=\"data row0 col0\" >Credit reporting, credit repair services, or other personal consumer reports</td>\n                        <td id=\"T_6c98617e_bf41_11eb_bdf2_367dda7836ccrow0_col1\" class=\"data row0 col1\" >260647</td>\n                        <td id=\"T_6c98617e_bf41_11eb_bdf2_367dda7836ccrow0_col2\" class=\"data row0 col2\" >36.99</td>\n            </tr>\n            <tr>\n                        <th id=\"T_6c98617e_bf41_11eb_bdf2_367dda7836cclevel0_row1\" class=\"row_heading level0 row1\" >7</th>\n                        <td id=\"T_6c98617e_bf41_11eb_bdf2_367dda7836ccrow1_col0\" class=\"data row1 col0\" >Debt collection</td>\n                        <td id=\"T_6c98617e_bf41_11eb_bdf2_367dda7836ccrow1_col1\" class=\"data row1 col1\" >139241</td>\n                        <td id=\"T_6c98617e_bf41_11eb_bdf2_367dda7836ccrow1_col2\" class=\"data row1 col2\" >19.76</td>\n            </tr>\n            <tr>\n                        <th id=\"T_6c98617e_bf41_11eb_bdf2_367dda7836cclevel0_row2\" class=\"row_heading level0 row2\" >10</th>\n                        <td id=\"T_6c98617e_bf41_11eb_bdf2_367dda7836ccrow2_col0\" class=\"data row2 col0\" >Mortgage</td>\n                        <td id=\"T_6c98617e_bf41_11eb_bdf2_367dda7836ccrow2_col1\" class=\"data row2 col1\" >77297</td>\n                        <td id=\"T_6c98617e_bf41_11eb_bdf2_367dda7836ccrow2_col2\" class=\"data row2 col2\" >10.97</td>\n            </tr>\n            <tr>\n                        <th id=\"T_6c98617e_bf41_11eb_bdf2_367dda7836cclevel0_row3\" class=\"row_heading level0 row3\" >4</th>\n                        <td id=\"T_6c98617e_bf41_11eb_bdf2_367dda7836ccrow3_col0\" class=\"data row3 col0\" >Credit card or prepaid card</td>\n                        <td id=\"T_6c98617e_bf41_11eb_bdf2_367dda7836ccrow3_col1\" class=\"data row3 col1\" >52677</td>\n                        <td id=\"T_6c98617e_bf41_11eb_bdf2_367dda7836ccrow3_col2\" class=\"data row3 col2\" >7.47</td>\n            </tr>\n            <tr>\n                        <th id=\"T_6c98617e_bf41_11eb_bdf2_367dda7836cclevel0_row4\" class=\"row_heading level0 row4\" >5</th>\n                        <td id=\"T_6c98617e_bf41_11eb_bdf2_367dda7836ccrow4_col0\" class=\"data row4 col0\" >Credit reporting</td>\n                        <td id=\"T_6c98617e_bf41_11eb_bdf2_367dda7836ccrow4_col1\" class=\"data row4 col1\" >31588</td>\n                        <td id=\"T_6c98617e_bf41_11eb_bdf2_367dda7836ccrow4_col2\" class=\"data row4 col2\" >4.48</td>\n            </tr>\n            <tr>\n                        <th id=\"T_6c98617e_bf41_11eb_bdf2_367dda7836cclevel0_row5\" class=\"row_heading level0 row5\" >1</th>\n                        <td id=\"T_6c98617e_bf41_11eb_bdf2_367dda7836ccrow5_col0\" class=\"data row5 col0\" >Checking or savings account</td>\n                        <td id=\"T_6c98617e_bf41_11eb_bdf2_367dda7836ccrow5_col1\" class=\"data row5 col1\" >31025</td>\n                        <td id=\"T_6c98617e_bf41_11eb_bdf2_367dda7836ccrow5_col2\" class=\"data row5 col2\" >4.40</td>\n            </tr>\n            <tr>\n                        <th id=\"T_6c98617e_bf41_11eb_bdf2_367dda7836cclevel0_row6\" class=\"row_heading level0 row6\" >15</th>\n                        <td id=\"T_6c98617e_bf41_11eb_bdf2_367dda7836ccrow6_col0\" class=\"data row6 col0\" >Student loan</td>\n                        <td id=\"T_6c98617e_bf41_11eb_bdf2_367dda7836ccrow6_col1\" class=\"data row6 col1\" >28066</td>\n                        <td id=\"T_6c98617e_bf41_11eb_bdf2_367dda7836ccrow6_col2\" class=\"data row6 col2\" >3.98</td>\n            </tr>\n            <tr>\n                        <th id=\"T_6c98617e_bf41_11eb_bdf2_367dda7836cclevel0_row7\" class=\"row_heading level0 row7\" >3</th>\n                        <td id=\"T_6c98617e_bf41_11eb_bdf2_367dda7836ccrow7_col0\" class=\"data row7 col0\" >Credit card</td>\n                        <td id=\"T_6c98617e_bf41_11eb_bdf2_367dda7836ccrow7_col1\" class=\"data row7 col1\" >18838</td>\n                        <td id=\"T_6c98617e_bf41_11eb_bdf2_367dda7836ccrow7_col2\" class=\"data row7 col2\" >2.67</td>\n            </tr>\n            <tr>\n                        <th id=\"T_6c98617e_bf41_11eb_bdf2_367dda7836cclevel0_row8\" class=\"row_heading level0 row8\" >0</th>\n                        <td id=\"T_6c98617e_bf41_11eb_bdf2_367dda7836ccrow8_col0\" class=\"data row8 col0\" >Bank account or service</td>\n                        <td id=\"T_6c98617e_bf41_11eb_bdf2_367dda7836ccrow8_col1\" class=\"data row8 col1\" >14885</td>\n                        <td id=\"T_6c98617e_bf41_11eb_bdf2_367dda7836ccrow8_col2\" class=\"data row8 col2\" >2.11</td>\n            </tr>\n            <tr>\n                        <th id=\"T_6c98617e_bf41_11eb_bdf2_367dda7836cclevel0_row9\" class=\"row_heading level0 row9\" >8</th>\n                        <td id=\"T_6c98617e_bf41_11eb_bdf2_367dda7836ccrow9_col0\" class=\"data row9 col0\" >Money transfer, virtual currency, or money service</td>\n                        <td id=\"T_6c98617e_bf41_11eb_bdf2_367dda7836ccrow9_col1\" class=\"data row9 col1\" >13877</td>\n                        <td id=\"T_6c98617e_bf41_11eb_bdf2_367dda7836ccrow9_col2\" class=\"data row9 col2\" >1.97</td>\n            </tr>\n            <tr>\n                        <th id=\"T_6c98617e_bf41_11eb_bdf2_367dda7836cclevel0_row10\" class=\"row_heading level0 row10\" >16</th>\n                        <td id=\"T_6c98617e_bf41_11eb_bdf2_367dda7836ccrow10_col0\" class=\"data row10 col0\" >Vehicle loan or lease</td>\n                        <td id=\"T_6c98617e_bf41_11eb_bdf2_367dda7836ccrow10_col1\" class=\"data row10 col1\" >12883</td>\n                        <td id=\"T_6c98617e_bf41_11eb_bdf2_367dda7836ccrow10_col2\" class=\"data row10 col2\" >1.83</td>\n            </tr>\n            <tr>\n                        <th id=\"T_6c98617e_bf41_11eb_bdf2_367dda7836cclevel0_row11\" class=\"row_heading level0 row11\" >2</th>\n                        <td id=\"T_6c98617e_bf41_11eb_bdf2_367dda7836ccrow11_col0\" class=\"data row11 col0\" >Consumer Loan</td>\n                        <td id=\"T_6c98617e_bf41_11eb_bdf2_367dda7836ccrow11_col1\" class=\"data row11 col1\" >9472</td>\n                        <td id=\"T_6c98617e_bf41_11eb_bdf2_367dda7836ccrow11_col2\" class=\"data row11 col2\" >1.34</td>\n            </tr>\n            <tr>\n                        <th id=\"T_6c98617e_bf41_11eb_bdf2_367dda7836cclevel0_row12\" class=\"row_heading level0 row12\" >13</th>\n                        <td id=\"T_6c98617e_bf41_11eb_bdf2_367dda7836ccrow12_col0\" class=\"data row12 col0\" >Payday loan, title loan, or personal loan</td>\n                        <td id=\"T_6c98617e_bf41_11eb_bdf2_367dda7836ccrow12_col1\" class=\"data row12 col1\" >9214</td>\n                        <td id=\"T_6c98617e_bf41_11eb_bdf2_367dda7836ccrow12_col2\" class=\"data row12 col2\" >1.31</td>\n            </tr>\n            <tr>\n                        <th id=\"T_6c98617e_bf41_11eb_bdf2_367dda7836cclevel0_row13\" class=\"row_heading level0 row13\" >12</th>\n                        <td id=\"T_6c98617e_bf41_11eb_bdf2_367dda7836ccrow13_col0\" class=\"data row13 col0\" >Payday loan</td>\n                        <td id=\"T_6c98617e_bf41_11eb_bdf2_367dda7836ccrow13_col1\" class=\"data row13 col1\" >1746</td>\n                        <td id=\"T_6c98617e_bf41_11eb_bdf2_367dda7836ccrow13_col2\" class=\"data row13 col2\" >0.25</td>\n            </tr>\n            <tr>\n                        <th id=\"T_6c98617e_bf41_11eb_bdf2_367dda7836cclevel0_row14\" class=\"row_heading level0 row14\" >9</th>\n                        <td id=\"T_6c98617e_bf41_11eb_bdf2_367dda7836ccrow14_col0\" class=\"data row14 col0\" >Money transfers</td>\n                        <td id=\"T_6c98617e_bf41_11eb_bdf2_367dda7836ccrow14_col1\" class=\"data row14 col1\" >1497</td>\n                        <td id=\"T_6c98617e_bf41_11eb_bdf2_367dda7836ccrow14_col2\" class=\"data row14 col2\" >0.21</td>\n            </tr>\n            <tr>\n                        <th id=\"T_6c98617e_bf41_11eb_bdf2_367dda7836cclevel0_row15\" class=\"row_heading level0 row15\" >14</th>\n                        <td id=\"T_6c98617e_bf41_11eb_bdf2_367dda7836ccrow15_col0\" class=\"data row15 col0\" >Prepaid card</td>\n                        <td id=\"T_6c98617e_bf41_11eb_bdf2_367dda7836ccrow15_col1\" class=\"data row15 col1\" >1450</td>\n                        <td id=\"T_6c98617e_bf41_11eb_bdf2_367dda7836ccrow15_col2\" class=\"data row15 col2\" >0.21</td>\n            </tr>\n            <tr>\n                        <th id=\"T_6c98617e_bf41_11eb_bdf2_367dda7836cclevel0_row16\" class=\"row_heading level0 row16\" >11</th>\n                        <td id=\"T_6c98617e_bf41_11eb_bdf2_367dda7836ccrow16_col0\" class=\"data row16 col0\" >Other financial service</td>\n                        <td id=\"T_6c98617e_bf41_11eb_bdf2_367dda7836ccrow16_col1\" class=\"data row16 col1\" >292</td>\n                        <td id=\"T_6c98617e_bf41_11eb_bdf2_367dda7836ccrow16_col2\" class=\"data row16 col2\" >0.04</td>\n            </tr>\n            <tr>\n                        <th id=\"T_6c98617e_bf41_11eb_bdf2_367dda7836cclevel0_row17\" class=\"row_heading level0 row17\" >17</th>\n                        <td id=\"T_6c98617e_bf41_11eb_bdf2_367dda7836ccrow17_col0\" class=\"data row17 col0\" >Virtual currency</td>\n                        <td id=\"T_6c98617e_bf41_11eb_bdf2_367dda7836ccrow17_col1\" class=\"data row17 col1\" >16</td>\n                        <td id=\"T_6c98617e_bf41_11eb_bdf2_367dda7836ccrow17_col2\" class=\"data row17 col2\" >0.00</td>\n            </tr>\n    </tbody></table>"
     },
     "metadata": {},
     "execution_count": 60
    }
   ],
   "source": [
    "# Style resulting table and export as PNG\n",
    "products_styled = products.style.background_gradient().set_precision(2)\n",
    "dfi.export(products_styled, \"products_counts.png\")\n",
    "products_styled"
   ]
  },
  {
   "source": [
    "### Examining Submission Method Distribution"
   ],
   "cell_type": "markdown",
   "metadata": {}
  },
  {
   "cell_type": "code",
   "execution_count": 73,
   "metadata": {},
   "outputs": [
    {
     "output_type": "execute_result",
     "data": {
      "text/plain": [
       "Web    704711\n",
       "Name: submitted_via, dtype: int64"
      ]
     },
     "metadata": {},
     "execution_count": 73
    }
   ],
   "source": [
    "df.submitted_via.value_counts()"
   ]
  }
 ]
}