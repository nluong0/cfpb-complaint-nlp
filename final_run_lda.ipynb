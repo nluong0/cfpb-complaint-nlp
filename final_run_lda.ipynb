{
  "nbformat": 4,
  "nbformat_minor": 0,
  "metadata": {
    "colab": {
      "name": "final_run_lda.ipynb",
      "provenance": [],
      "collapsed_sections": [],
      "toc_visible": true
    },
    "kernelspec": {
      "name": "python3",
      "display_name": "Python 3"
    },
    "language_info": {
      "name": "python"
    },
    "accelerator": "GPU"
  },
  "cells": [
    {
      "cell_type": "code",
      "metadata": {
        "id": "CSkFrxrWW-um",
        "colab": {
          "base_uri": "https://localhost:8080/"
        },
        "outputId": "b445c0e5-2787-43dd-ed14-fe4fa9dabec1"
      },
      "source": [
        "import nltk\n",
        "nltk.download('punkt')\n",
        "nltk.download('stopwords')\n",
        "nltk.download('wordnet')"
      ],
      "execution_count": 12,
      "outputs": [
        {
          "output_type": "stream",
          "text": [
            "[nltk_data] Downloading package punkt to /root/nltk_data...\n",
            "[nltk_data]   Package punkt is already up-to-date!\n",
            "[nltk_data] Downloading package stopwords to /root/nltk_data...\n",
            "[nltk_data]   Package stopwords is already up-to-date!\n",
            "[nltk_data] Downloading package wordnet to /root/nltk_data...\n",
            "[nltk_data]   Package wordnet is already up-to-date!\n"
          ],
          "name": "stdout"
        },
        {
          "output_type": "execute_result",
          "data": {
            "text/plain": [
              "True"
            ]
          },
          "metadata": {
            "tags": []
          },
          "execution_count": 12
        }
      ]
    },
    {
      "cell_type": "code",
      "metadata": {
        "id": "c9020mflOQnH"
      },
      "source": [
        "import json\n",
        "import string\n",
        "from nltk.tokenize import word_tokenize \n",
        "from nltk.corpus import stopwords\n",
        "from nltk.stem import WordNetLemmatizer\n",
        "from nltk.util import ngrams\n",
        "from gensim.corpora import Dictionary\n",
        "import random\n",
        "\n",
        "\n",
        "def get_sample(data, size):\n",
        "    '''\n",
        "    Takes a dictionary and a sample size and pulls randomly from the dictionary.\n",
        "    '''\n",
        "    key_list = [i for i in data.keys()]\n",
        "    sample_keys = random.sample(key_list, size)\n",
        "    #eval_keys = [i for i in key_list if i not in sample_keys]\n",
        "\n",
        "    return sample_keys#, eval_keys\n",
        "\n",
        "\n",
        "def preprocessing(data, n):\n",
        "    '''\n",
        "    Performs preprocessing tasks on raw data.\n",
        "    '''\n",
        "    punctuation = str.maketrans('', '', string.punctuation)\n",
        "    stop_words = set(stopwords.words('english'))\n",
        "    wnl = WordNetLemmatizer()\n",
        "    rv = {}\n",
        "    bad_ids = []\n",
        "    for id, narrative in data.items():\n",
        "        # Preprocessing tasks\n",
        "        tokens = word_tokenize(narrative.lower()) # lower case & tokenize\n",
        "        stripped = [w.translate(punctuation) for w in tokens] # strip punctuation\n",
        "        words = [word for word in stripped if word.isalnum()] # remove non-alphabetic-numeric words\n",
        "        words = [w for w in words if not w in stop_words] # remove stopwords\n",
        "        words = [w if w  != len(w) * w[0] else '~' for w in words] # replace 'xxx' with '~' \n",
        "        words = [w if not w.isdigit() else '*' for w in words] # replace numbers with '*'\n",
        "        words = [wnl.lemmatize(w) for w in words] # lemmatize\n",
        "\n",
        "        # Remove consecutive duplicates of '~' or '*'\n",
        "        final_words = []\n",
        "        for i in range(0,len(words)):\n",
        "          if i==0:\n",
        "            final_words.append(words[i])\n",
        "          else:\n",
        "            if not((words[i] == '*' and final_words[-1]=='*'\n",
        "                    ) or (\n",
        "                        words[i] == '~' and final_words[-1]=='~')):\n",
        "                final_words.append(words[i])\n",
        "\n",
        "        # Create ngrams\n",
        "        try:\n",
        "          ngram_tuples = list(ngrams(final_words, n))\n",
        "          ngram_words = [' '.join(ngram_tuple) for ngram_tuple in ngram_tuples]\n",
        "\n",
        "          # Replace narratives in data with preprocessed text\n",
        "          rv[id] = ngram_words\n",
        "        except:\n",
        "          bad_ids.append(id)\n",
        "    \n",
        "    return rv\n",
        "\n",
        "\n",
        "def embedding(data, n):\n",
        "    '''\n",
        "    Creates word embeddings.\n",
        "    '''\n",
        "    data = preprocessing(data, n)\n",
        "    docs = list(data.values())\n",
        "    dictionary = Dictionary(docs) \n",
        "\n",
        "    # Filter out words that occur less than 20 documents, or more than 50% of the documents.\n",
        "    dictionary.filter_extremes(no_below=20, no_above=0.5) \n",
        "\n",
        "    corpus = [dictionary.doc2bow(doc) for doc in docs]\n",
        "\n",
        "    return data, docs, dictionary, corpus"
      ],
      "execution_count": 13,
      "outputs": []
    },
    {
      "cell_type": "code",
      "metadata": {
        "colab": {
          "base_uri": "https://localhost:8080/",
          "height": 171
        },
        "id": "wqk6pqKXsc78",
        "outputId": "7a205649-f88b-47e1-fd73-49ca320aaa49"
      },
      "source": [
        "g = open('products.json')\n",
        "complaint_types = json.load(g)\n",
        "h = open('complaints_full.json')\n",
        "narratives = json.load(h)\n",
        "sample_keys = get_sample(narratives,500000)\n",
        "sample_data = {i: narratives[i] for i in sample_keys}\n",
        "sample_data[sample_keys[0]]"
      ],
      "execution_count": 14,
      "outputs": [
        {
          "output_type": "execute_result",
          "data": {
            "application/vnd.google.colaboratory.intrinsic+json": {
              "type": "string"
            },
            "text/plain": [
              "'My daughter took out XXXX student loads, which I cosigned. She apparently stopped paying the monthly payments sometime in XXXX of 2015. I was unaware of this until I received a phone call in late XXXX from Wells Fargo, the debt holder. I asked for a statement, and paid the bill when it was received. I then received numerous calls over a period of several weeks and in each instance I asked for a written statement. Each of these statements FALSELY state that I had received numerous prior notifications. That is simply not true. I recieved no prior notification whatsoever. I paid all of these bills when notified, and yet Wells Fargo has now notified all XXXX credit agencies that I am in arrears, which has had a devastating impact on my credit rating. I have always had perfect credit. I acted in good faith to fulfill my obligation as a co signer. Wells Fargo has acted in bad faith, has improperly damaged my credit, and has repeatedly failed to timely notify me of the debt owed, and has refused on multiple occasions to provide documentation when requested. This surely must be a violation of fair credit practices.'"
            ]
          },
          "metadata": {
            "tags": []
          },
          "execution_count": 14
        }
      ]
    },
    {
      "cell_type": "code",
      "metadata": {
        "id": "DSzZZIQFZzft"
      },
      "source": [
        "eval_keys = list(set(narratives.keys())-set(sample_keys))\n",
        "eval_data = {i: narratives[i] for i in eval_keys}"
      ],
      "execution_count": 18,
      "outputs": []
    },
    {
      "cell_type": "code",
      "metadata": {
        "id": "sPkLZxtLa2lx"
      },
      "source": [
        "NGRAMS = 2\n",
        "full_data, full_docs, full_dictionary, full_corpus = embedding(sample_data, NGRAMS)\n",
        "full_temp = full_dictionary[0] \n",
        "full_id2word = full_dictionary.id2token"
      ],
      "execution_count": 21,
      "outputs": []
    },
    {
      "cell_type": "code",
      "metadata": {
        "id": "OfEeO_YVltwc"
      },
      "source": [
        "from gensim.models import LdaModel\n",
        "\n",
        "full_model = LdaModel(\n",
        "    corpus=full_corpus,\n",
        "    id2word=full_id2word,\n",
        "    num_topics=15,\n",
        "    chunksize=1000,\n",
        "    passes=30,\n",
        "    iterations=25,\n",
        "    random_state=1\n",
        ")\n",
        "\n",
        "full_model.save('full_lda.model')"
      ],
      "execution_count": 23,
      "outputs": []
    },
    {
      "cell_type": "code",
      "metadata": {
        "colab": {
          "base_uri": "https://localhost:8080/"
        },
        "id": "q7T6GFgVuRKj",
        "outputId": "774a320e-4252-4167-e691-b976e8026863"
      },
      "source": [
        "# Compute coherence\n",
        "from gensim.models import CoherenceModel\n",
        "\n",
        "coherence_model = CoherenceModel(model=full_model, texts=docs, dictionary=dictionary, coherence='c_v')\n",
        "coherence_lda = coherence_model.get_coherence()\n",
        "print('Coherence Score: ', coherence_lda)\n",
        "\n",
        "# Compute perplexity\n",
        "print('Perplexity Score: ', full_model.log_perplexity(corpus))"
      ],
      "execution_count": 25,
      "outputs": [
        {
          "output_type": "stream",
          "text": [
            "Coherence Score:  0.6363205271677349\n",
            "Perplexity Score:  -11.932547715701617\n"
          ],
          "name": "stdout"
        }
      ]
    },
    {
      "cell_type": "code",
      "metadata": {
        "id": "6l77cWckW1Oq"
      },
      "source": [
        "key_list = [i for i in narratives.keys()][0:100000]\n",
        "eval_keys = narratives\n",
        "testing_eval_ngrams, bad_ids = preprocessing(eval_keys,2)"
      ],
      "execution_count": 64,
      "outputs": []
    },
    {
      "cell_type": "code",
      "metadata": {
        "id": "DSK3UKJMLZ0a"
      },
      "source": [
        "eval_processed = preprocessing(eval_data,2)"
      ],
      "execution_count": 28,
      "outputs": []
    },
    {
      "cell_type": "code",
      "metadata": {
        "id": "WM-2W07RH1Vq",
        "outputId": "e7b5f4fc-7cc6-4ad6-a890-7b289eec0e34",
        "colab": {
          "base_uri": "https://localhost:8080/"
        }
      },
      "source": [
        "from pprint import pprint\n",
        "top_topics = full_model.top_topics(corpus)\n",
        "pprint(top_topics)"
      ],
      "execution_count": 29,
      "outputs": [
        {
          "output_type": "stream",
          "text": [
            "[([(0.04681514, 'credit report'),\n",
            "   (0.010670912, 'identity theft'),\n",
            "   (0.008924044, 'credit file'),\n",
            "   (0.008036387, 'social security'),\n",
            "   (0.007919517, 'inquiry ~'),\n",
            "   (0.0078012375, 'credit bureau'),\n",
            "   (0.007671249, 'police report'),\n",
            "   (0.007648646, 'report ~'),\n",
            "   (0.007219863, '~ inquiry'),\n",
            "   (0.0056640827, '~ credit'),\n",
            "   (0.0055721123, 'fraudulent account'),\n",
            "   (0.005496895, 'personal information'),\n",
            "   (0.0054759914, 'date ~'),\n",
            "   (0.005187177, 'security number'),\n",
            "   (0.00476239, 'name ~'),\n",
            "   (0.004714155, 'victim identity'),\n",
            "   (0.004392227, 'address ~'),\n",
            "   (0.0040252055, 'information credit'),\n",
            "   (0.0037250747, 'credit reporting'),\n",
            "   (0.0036767754, 'account credit')],\n",
            "  -13.331141400641402),\n",
            " ([(0.010056033, 'payment ~'),\n",
            "   (0.009178184, 'student loan'),\n",
            "   (0.008960567, '~ payment'),\n",
            "   (0.00834574, 'late fee'),\n",
            "   (0.0077766506, '~ month'),\n",
            "   (0.007463246, 'payment *'),\n",
            "   (0.0073678605, 'loan ~'),\n",
            "   (0.0067823953, 'interest rate'),\n",
            "   (0.0066187675, 'monthly payment'),\n",
            "   (0.0064702667, '~ *'),\n",
            "   (0.0061800843, 'make payment'),\n",
            "   (0.0057738023, '* month'),\n",
            "   (0.005699758, 'payment made'),\n",
            "   (0.004880071, '* ~'),\n",
            "   (0.004436611, '~ loan'),\n",
            "   (0.0041069025, 'late payment'),\n",
            "   (0.0040560924, 'payment due'),\n",
            "   (0.0038580196, 'every month'),\n",
            "   (0.0036712396, 'month ~'),\n",
            "   (0.0036454934, 'made payment')],\n",
            "  -13.422826532428894),\n",
            " ([(0.008033053, 'customer service'),\n",
            "   (0.0064987824, '~ called'),\n",
            "   (0.0063853106, 'called ~'),\n",
            "   (0.00615225, '~ told'),\n",
            "   (0.0049451594, '* day'),\n",
            "   (0.0042957254, 'call back'),\n",
            "   (0.0039990023, 'told would'),\n",
            "   (0.00392961, 'said would'),\n",
            "   (0.0037865192, 'spoke ~'),\n",
            "   (0.0036882418, '~ said'),\n",
            "   (0.003524288, '~ day'),\n",
            "   (0.0031320835, 'phone call'),\n",
            "   (0.0031158768, 'call ~'),\n",
            "   (0.0030010086, 'called back'),\n",
            "   (0.0028783432, 'back ~'),\n",
            "   (0.002650074, 'told ~'),\n",
            "   (0.0024214648, 'could nt'),\n",
            "   (0.0023936238, '~ week'),\n",
            "   (0.0023911886, 'never received'),\n",
            "   (0.0021374025, '~ spoke')],\n",
            "  -13.504153576694064),\n",
            " ([(0.00877009, '~ received'),\n",
            "   (0.0073309145, '~ *'),\n",
            "   (0.005887242, 'dated ~'),\n",
            "   (0.005133712, 'number ~'),\n",
            "   (0.0044689924, '~ sent'),\n",
            "   (0.0040528784, 'complaint ~'),\n",
            "   (0.003918689, '~ also'),\n",
            "   (0.0038200032, 'sent ~'),\n",
            "   (0.0035557365, 'email ~'),\n",
            "   (0.0035013428, 'received ~'),\n",
            "   (0.0032446377, 'since ~'),\n",
            "   (0.0030049842, 'mr ~'),\n",
            "   (0.002858047, 'received letter'),\n",
            "   (0.002840202, 'letter ~'),\n",
            "   (0.0028359406, 'id ~'),\n",
            "   (0.0028292367, 'case ~'),\n",
            "   (0.0027016085, '* ~'),\n",
            "   (0.0026432143, '~ stated'),\n",
            "   (0.002616233, 'contacted ~'),\n",
            "   (0.0023313605, 'check ~')],\n",
            "  -14.212185284450372),\n",
            " ([(0.012933179, '* ~'),\n",
            "   (0.010965357, 'section *'),\n",
            "   (0.010236162, 'credit reporting'),\n",
            "   (0.008223428, '* usc'),\n",
            "   (0.0072432193, 'collection practice'),\n",
            "   (0.006960515, 'debt collection'),\n",
            "   (0.006661971, 'fair debt'),\n",
            "   (0.00622597, 'reporting act'),\n",
            "   (0.0062118466, 'practice act'),\n",
            "   (0.006189599, 'fair credit'),\n",
            "   (0.004051278, 'alleged debt'),\n",
            "   (0.003988526, 'reporting agency'),\n",
            "   (0.0036955606, 'original creditor'),\n",
            "   (0.0036774934, 'federal law'),\n",
            "   (0.0036569403, 'usc *'),\n",
            "   (0.003463635, 'violation fair'),\n",
            "   (0.003249394, 'debt collector'),\n",
            "   (0.003078498, 'account number'),\n",
            "   (0.0029422876, 'credit report'),\n",
            "   (0.0028615496, 'number ~')],\n",
            "  -14.796290746554247),\n",
            " ([(0.025633479, 'capital one'),\n",
            "   (0.012972706, 'fair credit'),\n",
            "   (0.012638118, '* ~'),\n",
            "   (0.012423562, 'account ~'),\n",
            "   (0.012396137, 'opened ~'),\n",
            "   (0.011902978, 'acct ~'),\n",
            "   (0.0114410855, '~ opened'),\n",
            "   (0.011310785, 'credit report'),\n",
            "   (0.010981387, 'credit reporting'),\n",
            "   (0.010302137, '~ acct'),\n",
            "   (0.009267511, 'reporting act'),\n",
            "   (0.008264899, '~ balance'),\n",
            "   (0.008050681, 'identity theft'),\n",
            "   (0.0077256756, 'section *'),\n",
            "   (0.0071247295, '* account'),\n",
            "   (0.0068058753, 'balance *'),\n",
            "   (0.005015523, 'account listed'),\n",
            "   (0.0048119896, '* cfr'),\n",
            "   (0.004715752, 'victim identity'),\n",
            "   (0.0045224563, 'cfr *')],\n",
            "  -15.195198422795482),\n",
            " ([(0.035860293, 'credit report'),\n",
            "   (0.017847996, 'credit bureau'),\n",
            "   (0.017240483, '~ account'),\n",
            "   (0.013617896, 'account ~'),\n",
            "   (0.012482648, 'credit score'),\n",
            "   (0.010359382, '* day'),\n",
            "   (0.010074913, '~ credit'),\n",
            "   (0.008723263, 'late payment'),\n",
            "   (0.007640754, 'credit reporting'),\n",
            "   (0.0073651294, 'account number'),\n",
            "   (0.005716966, 'report ~'),\n",
            "   (0.005706964, 'number ~'),\n",
            "   (0.0057038865, 'reporting agency'),\n",
            "   (0.0055034426, '~ *'),\n",
            "   (0.005497859, 'past due'),\n",
            "   (0.005180222, 'day late'),\n",
            "   (0.0047761165, '~ reporting'),\n",
            "   (0.0043454613, '~ balance'),\n",
            "   (0.0042404775, 'removed credit'),\n",
            "   (0.0040516504, 'reported ~')],\n",
            "  -15.223402892794802),\n",
            " ([(0.028344376, 'credit card'),\n",
            "   (0.0101024825, 'bank america'),\n",
            "   (0.0077773817, 'checking account'),\n",
            "   (0.006722325, 'account ~'),\n",
            "   (0.0061998093, 'bank account'),\n",
            "   (0.005920376, '~ *'),\n",
            "   (0.0045534098, 'card ~'),\n",
            "   (0.0044399956, '* ~'),\n",
            "   (0.0041485177, 'debit card'),\n",
            "   (0.0037437503, '~ account'),\n",
            "   (0.0037235154, 'american express'),\n",
            "   (0.003567238, 'u bank'),\n",
            "   (0.003547355, 'account closed'),\n",
            "   (0.0035218026, 'bank ~'),\n",
            "   (0.0034089664, 'customer service'),\n",
            "   (0.0032921552, 'chase bank'),\n",
            "   (0.0032705455, 'close account'),\n",
            "   (0.003142488, '~ bank'),\n",
            "   (0.0028567512, 'amount *'),\n",
            "   (0.0028411879, 'card company')],\n",
            "  -15.407383201095088),\n",
            " ([(0.0094414605, '~ year'),\n",
            "   (0.0068164887, 'ca nt'),\n",
            "   (0.0064868536, 'phone number'),\n",
            "   (0.005157898, 'phone call'),\n",
            "   (0.0048825764, '~ time'),\n",
            "   (0.0045929872, 'please help'),\n",
            "   (0.0043493747, 'year ago'),\n",
            "   (0.0039884765, '* year'),\n",
            "   (0.003931611, 'nt know'),\n",
            "   (0.00304333, 'name ~'),\n",
            "   (0.0027833951, 'several time'),\n",
            "   (0.0027006937, 'trying get'),\n",
            "   (0.002465648, '~ month'),\n",
            "   (0.0024340027, 'nt even'),\n",
            "   (0.002342492, 'multiple time'),\n",
            "   (0.0022893895, '~ nt'),\n",
            "   (0.0022738269, 'year old'),\n",
            "   (0.0022607397, 'wo nt'),\n",
            "   (0.002242758, 'cell phone'),\n",
            "   (0.0022382077, 'since ~')],\n",
            "  -15.797340950418823),\n",
            " ([(0.023482706, '* day'),\n",
            "   (0.011891739, 'sent letter'),\n",
            "   (0.009426808, 'credit report'),\n",
            "   (0.009091209, 'credit bureau'),\n",
            "   (0.008643621, 'letter ~'),\n",
            "   (0.008075905, 'certified mail'),\n",
            "   (0.0069721607, 'letter sent'),\n",
            "   (0.0064497897, 'within *'),\n",
            "   (0.0064496538, 'received response'),\n",
            "   (0.005911892, 'certified letter'),\n",
            "   (0.004930096, '~ sent'),\n",
            "   (0.004394876, 'dispute letter'),\n",
            "   (0.0037014137, 'sent certified'),\n",
            "   (0.0035190317, 'item credit'),\n",
            "   (0.0033432383, 'letter stating'),\n",
            "   (0.003240218, 'sent ~'),\n",
            "   (0.0031283307, 'received letter'),\n",
            "   (0.0028725325, 'via certified'),\n",
            "   (0.002649509, '~ letter'),\n",
            "   (0.002337337, 'letter received')],\n",
            "  -16.078182843143118),\n",
            " ([(0.017273856, 'collection agency'),\n",
            "   (0.007913258, 'never received'),\n",
            "   (0.0072799507, 'debt ~'),\n",
            "   (0.0072770133, 'collect debt'),\n",
            "   (0.0066610905, 'debt collection'),\n",
            "   (0.006594278, 'debt collector'),\n",
            "   (0.0041781226, 'collection company'),\n",
            "   (0.004038373, '~ debt'),\n",
            "   (0.0038339728, 'original creditor'),\n",
            "   (0.0034225269, 'amount *'),\n",
            "   (0.003288484, 'trying collect'),\n",
            "   (0.0031301433, 'debt credit'),\n",
            "   (0.0027585942, 'portfolio recovery'),\n",
            "   (0.0025364133, 'debt validation'),\n",
            "   (0.0025131195, 'attempting collect'),\n",
            "   (0.0024850431, 'debt *'),\n",
            "   (0.0024593698, 'received letter'),\n",
            "   (0.0024207728, 'attempt collect'),\n",
            "   (0.0023843718, 'alleged debt'),\n",
            "   (0.0023771075, 'owe debt')],\n",
            "  -16.396803522038034),\n",
            " ([(0.04444701, 'well fargo'),\n",
            "   (0.012142048, 'hard inquiry'),\n",
            "   (0.012061228, 'credit report'),\n",
            "   (0.0076591815, 'inquiry credit'),\n",
            "   (0.0049620112, '~ well'),\n",
            "   (0.0046887333, 'would like'),\n",
            "   (0.0038963961, '~ xxxx2019'),\n",
            "   (0.003657512, 'xxxx2019 ~'),\n",
            "   (0.0034920124, 'fargo bank'),\n",
            "   (0.0028447069, 'without consent'),\n",
            "   (0.0026835958, 'never done'),\n",
            "   (0.0026499098, 'creditor name'),\n",
            "   (0.0026474078, 'done business'),\n",
            "   (0.0025542055, '~ hard'),\n",
            "   (0.0025541428, 'requesting information'),\n",
            "   (0.0023983363, 'run credit'),\n",
            "   (0.00237739, 'never authorized'),\n",
            "   (0.0022744003, 'proof account'),\n",
            "   (0.0022075332, 'fargo ~'),\n",
            "   (0.0021701083, '~ va')],\n",
            "  -16.93723437605931),\n",
            " ([(0.010197084, 'loan modification'),\n",
            "   (0.008900389, 'mortgage company'),\n",
            "   (0.0066414345, 'mortgage payment'),\n",
            "   (0.0063374387, '~ mortgage'),\n",
            "   (0.005787267, 'mortgage ~'),\n",
            "   (0.0051154727, 'mortgage loan'),\n",
            "   (0.004943886, 'escrow account'),\n",
            "   (0.004910839, 'short sale'),\n",
            "   (0.004590601, 'home loan'),\n",
            "   (0.004036947, '~ county'),\n",
            "   (0.0037033309, '* day'),\n",
            "   (0.0035327098, 'home ~'),\n",
            "   (0.0031949622, 'property tax'),\n",
            "   (0.0031610425, 'loan servicing'),\n",
            "   (0.0027725429, 'loan officer'),\n",
            "   (0.0026899604, 'loss mitigation'),\n",
            "   (0.0025083318, 'real estate'),\n",
            "   (0.002449783, 'attorney ~'),\n",
            "   (0.002380189, 'home mortgage'),\n",
            "   (0.0022879203, 'chapter ~')],\n",
            "  -17.13797505398526),\n",
            " ([(0.0514369, '~ *'),\n",
            "   (0.039087735, '* ~'),\n",
            "   (0.0058497083, 'please remove'),\n",
            "   (0.0055890363, 'tobe plaintiff'),\n",
            "   (0.0042039827, 'navy federal'),\n",
            "   (0.0041309013, 'physically verifiable'),\n",
            "   (0.004042897, 'metro ~'),\n",
            "   (0.0033561552, 'alleged claim'),\n",
            "   (0.003325456, 'knowledge ever'),\n",
            "   (0.0032803055, 'much le'),\n",
            "   (0.0032714675, '~ knowledge'),\n",
            "   (0.0030868822, 'submitted dispute'),\n",
            "   (0.0030050236, 'document proof'),\n",
            "   (0.002948066, 'mine please'),\n",
            "   (0.002816445, 'pulled credit'),\n",
            "   (0.0027912515, 'u dept'),\n",
            "   (0.0027625493, 'reporting practice'),\n",
            "   (0.002726756, '~ format'),\n",
            "   (0.0026454388, 'legal standing'),\n",
            "   (0.00263459, 'item report')],\n",
            "  -17.473870625340943),\n",
            " ([(0.030038306, 'reporting agency'),\n",
            "   (0.0293396, 'consumer reporting'),\n",
            "   (0.02789304, 'identity theft'),\n",
            "   (0.011128929, '~ oh'),\n",
            "   (0.010649972, 'oh ~'),\n",
            "   (0.010473948, 'theft ~'),\n",
            "   (0.008348938, 'consumer ~'),\n",
            "   (0.0069471807, 'theft report'),\n",
            "   (0.006654457, 'file consumer'),\n",
            "   (0.0064597027, 'consumer report'),\n",
            "   (0.006083428, '~ business'),\n",
            "   (0.005849295, 'business day'),\n",
            "   (0.0057524475, 'information file'),\n",
            "   (0.0056841224, 'consumer information'),\n",
            "   (0.0054756138, 'paragraph ~'),\n",
            "   (0.0054095844, 'agency shall'),\n",
            "   (0.005394922, 'subsection section'),\n",
            "   (0.0049626366, '~ consumer'),\n",
            "   (0.0047507924, 'section ~'),\n",
            "   (0.0047435267, 'law enforcement')],\n",
            "  -18.00179259517701)]\n"
          ],
          "name": "stdout"
        }
      ]
    },
    {
      "cell_type": "code",
      "metadata": {
        "id": "uXGeHYeXJT_q",
        "outputId": "2b7e8700-95d1-464e-b1ba-4c6bdd0b2bb0",
        "colab": {
          "base_uri": "https://localhost:8080/"
        }
      },
      "source": [
        "topic_map = {}\n",
        "for topic_id in range(full_model.num_topics):\n",
        "     topk = full_model.show_topic(topic_id, 10)\n",
        "     topk_words = [ w for w, _ in topk ]\n",
        "     topic_map[topic_id] = ', '.join(topk_words)\n",
        "     #print('{}: {}'.format(topic_id, ', '.join(topk_words)))\n",
        "topic_map"
      ],
      "execution_count": 37,
      "outputs": [
        {
          "output_type": "execute_result",
          "data": {
            "text/plain": [
              "{0: 'credit card, bank america, checking account, account ~, bank account, ~ *, card ~, * ~, debit card, ~ account',\n",
              " 1: '* day, sent letter, credit report, credit bureau, letter ~, certified mail, letter sent, within *, received response, certified letter',\n",
              " 2: '* ~, section *, credit reporting, * usc, collection practice, debt collection, fair debt, reporting act, practice act, fair credit',\n",
              " 3: 'collection agency, never received, debt ~, collect debt, debt collection, debt collector, collection company, ~ debt, original creditor, amount *',\n",
              " 4: 'customer service, ~ called, called ~, ~ told, * day, call back, told would, said would, spoke ~, ~ said',\n",
              " 5: 'reporting agency, consumer reporting, identity theft, ~ oh, oh ~, theft ~, consumer ~, theft report, file consumer, consumer report',\n",
              " 6: '~ received, ~ *, dated ~, number ~, ~ sent, complaint ~, ~ also, sent ~, email ~, received ~',\n",
              " 7: 'well fargo, hard inquiry, credit report, inquiry credit, ~ well, would like, ~ xxxx2019, xxxx2019 ~, fargo bank, without consent',\n",
              " 8: '~ *, * ~, please remove, tobe plaintiff, navy federal, physically verifiable, metro ~, alleged claim, knowledge ever, much le',\n",
              " 9: 'loan modification, mortgage company, mortgage payment, ~ mortgage, mortgage ~, mortgage loan, escrow account, short sale, home loan, ~ county',\n",
              " 10: 'credit report, credit bureau, ~ account, account ~, credit score, * day, ~ credit, late payment, credit reporting, account number',\n",
              " 11: 'capital one, fair credit, * ~, account ~, opened ~, acct ~, ~ opened, credit report, credit reporting, ~ acct',\n",
              " 12: 'payment ~, student loan, ~ payment, late fee, ~ month, payment *, loan ~, interest rate, monthly payment, ~ *',\n",
              " 13: '~ year, ca nt, phone number, phone call, ~ time, please help, year ago, * year, nt know, name ~',\n",
              " 14: 'credit report, identity theft, credit file, social security, inquiry ~, credit bureau, police report, report ~, ~ inquiry, ~ credit'}"
            ]
          },
          "metadata": {
            "tags": []
          },
          "execution_count": 37
        }
      ]
    },
    {
      "cell_type": "code",
      "metadata": {
        "colab": {
          "base_uri": "https://localhost:8080/"
        },
        "id": "Vw_Zm4L61ssN",
        "outputId": "17320812-9bf4-42cf-db1f-393dbc584e4b"
      },
      "source": [
        "import pandas as pd\n",
        "check_df = pd.DataFrame()\n",
        "df_list = []\n",
        "track = 0\n",
        "for k, v in eval_processed.items():\n",
        "  vec = dictionary.doc2bow(v)\n",
        "  tmp_df = pd.DataFrame(full_model[vec])\n",
        "  tmp_df['id'] = k\n",
        "  tmp_df['complaint_type'] = complaint_types[k]\n",
        "  check_df = pd.concat([check_df,tmp_df])\n",
        "  track+=1\n",
        "  if not track%50000:\n",
        "    print(track)\n",
        "    df_list.append(check_df.copy())\n",
        "    check_df = pd.DataFrame()"
      ],
      "execution_count": 39,
      "outputs": [
        {
          "output_type": "stream",
          "text": [
            "50000\n",
            "100000\n",
            "150000\n",
            "200000\n"
          ],
          "name": "stdout"
        }
      ]
    },
    {
      "cell_type": "code",
      "metadata": {
        "id": "eefDnNrJpEkX"
      },
      "source": [
        "#check_df.head()\n",
        "df_list.append(check_df.copy())\n",
        "check_final = pd.concat(df_list)\n",
        "check_final['derived_topic'] = check_final[0].map(topic_map)\n"
      ],
      "execution_count": 40,
      "outputs": []
    },
    {
      "cell_type": "code",
      "metadata": {
        "id": "jBEUYdM6r-3w",
        "outputId": "1dc0f47d-fc4b-4c21-e2fb-cb34624819d9",
        "colab": {
          "base_uri": "https://localhost:8080/"
        }
      },
      "source": [
        "check_final.shape"
      ],
      "execution_count": 43,
      "outputs": [
        {
          "output_type": "execute_result",
          "data": {
            "text/plain": [
              "(2289587, 5)"
            ]
          },
          "metadata": {
            "tags": []
          },
          "execution_count": 43
        }
      ]
    },
    {
      "cell_type": "code",
      "metadata": {
        "colab": {
          "base_uri": "https://localhost:8080/"
        },
        "id": "yfYS-e-3dUB-",
        "outputId": "4a6e7985-f8e0-4454-8b4a-3fbddf8619e4"
      },
      "source": [
        "from google.colab import drive\n",
        "drive.mount('/content/drive')"
      ],
      "execution_count": 44,
      "outputs": [
        {
          "output_type": "stream",
          "text": [
            "Drive already mounted at /content/drive; to attempt to forcibly remount, call drive.mount(\"/content/drive\", force_remount=True).\n"
          ],
          "name": "stdout"
        }
      ]
    },
    {
      "cell_type": "code",
      "metadata": {
        "id": "OcFAP7GqdWjr"
      },
      "source": [
        "check_final.to_csv('drive/My Drive/advml_proj.csv')"
      ],
      "execution_count": 45,
      "outputs": []
    }
  ]
}